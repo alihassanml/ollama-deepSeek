{
 "cells": [
  {
   "cell_type": "code",
   "execution_count": 2,
   "id": "20234cd2-7dc5-46bc-b994-80f496149990",
   "metadata": {},
   "outputs": [],
   "source": [
    "import requests\n",
    "import warnings\n",
    "warnings.filterwarnings('ignore')"
   ]
  },
  {
   "cell_type": "code",
   "execution_count": 13,
   "id": "6eee0ea7-c073-443f-abad-b6c8963c45fc",
   "metadata": {},
   "outputs": [],
   "source": [
    "from langchain_core.prompts import ChatPromptTemplate\n",
    "from langchain_ollama.llms import OllamaLLM\n",
    "from IPython.display import Markdown"
   ]
  },
  {
   "cell_type": "code",
   "execution_count": 4,
   "id": "da5dc379-378d-4b21-9145-346152314034",
   "metadata": {},
   "outputs": [],
   "source": [
    "model = OllamaLLM(model='deepseek-r1:1.5b')"
   ]
  },
  {
   "cell_type": "code",
   "execution_count": 9,
   "id": "21f5b912-e43e-4ed8-9b00-61bd7500e847",
   "metadata": {},
   "outputs": [
    {
     "name": "stdout",
     "output_type": "stream",
     "text": [
      "NAME                ID              SIZE      MODIFIED   \n",
      "deepseek-r1:1.5b    a42b25d8c10a    1.1 GB    8 days ago    \n"
     ]
    }
   ],
   "source": [
    "!ollama list"
   ]
  },
  {
   "cell_type": "code",
   "execution_count": 5,
   "id": "7e74a45f-ac56-4b20-a6dd-9b5ea7fbeccb",
   "metadata": {},
   "outputs": [],
   "source": [
    "template = \"\"\"Question: {question}\n",
    "Answer: Give me answer as well as possible\"\"\"\n",
    "prompt = ChatPromptTemplate.from_template(template)"
   ]
  },
  {
   "cell_type": "code",
   "execution_count": 15,
   "id": "f75bf8c5-90c5-438b-9c9d-cc7f3d61acca",
   "metadata": {},
   "outputs": [],
   "source": [
    "chain = prompt | model\n",
    "input_user = 'Tell me what is machine learning'\n",
    "result = chain.invoke({\"question\": input_user})"
   ]
  },
  {
   "cell_type": "code",
   "execution_count": 16,
   "id": "abb4279b-eacb-4cc4-aea2-3dc62cee8ff9",
   "metadata": {},
   "outputs": [
    {
     "data": {
      "text/markdown": [
       "- <think>\n",
       "Okay, so I need to understand what machine learning is. Let me start by breaking down the term \"machine learning.\" The word itself sounds like it's related to machines, which makes sense because it's a process that computers can perform. So, maybe machine learning is about teaching machines through data.\n",
       "- I've heard the phrase \"data-driven\" before, and I think machine learning uses data to make predictions or decisions without being explicitly programmed. That seems to fit. So, it's not like traditional programming where you code everything, but instead, the machine learns from patterns in data.\n",
       "- Let me think about examples. In cooking, a robot chef might use machine learning to adjust recipes based on what's available. But that's more of an application. I've also heard about self-driving cars using ML algorithms to make decisions. That sounds like it's predicting obstacles or traffic conditions. So, the car doesn't need a human driver; it can do things automatically.\n",
       "- Maybe there are other areas where machine learning is used. In finance, algorithms might predict stock trends based on historical data. Or in healthcare, maybe diagnostics could be automated using ML. I wonder how much overlap there is between these fields since ML seems so versatile.\n",
       "- I also remember hearing about neural networks and deep learning. Those are types of models that can learn complex patterns from data. So, perhaps machine learning includes all kinds of algorithms, including neural networks.\n",
       "- Wait, how do people really get ML systems working? Do they need to know the underlying math or programming? From what I gather, it's more about data processing and pattern recognition rather than explicit coding. Maybe that's why ML is often considered a broad field without strict boundaries on where it can be applied.\n",
       "- I'm curious about the difference between supervised and unsupervised learning. In supervised learning, the model has some labeled data to learn from, so the outcomes are known. For example, training a spam filter using emails marked as spam or not spam. On the other hand, unsupervised learning deals with unlabeled data. An example might be finding clusters of customers based on their purchasing behavior without prior knowledge of which groups they belong to.\n",
       "- What about reinforcement learning? I think that's when an agent learns from its environment by performing actions and receiving rewards or penalties. It's used in things like game playing, where AI plays a game with rewards for winning positions, or robotics training where it receives feedback on how well it navigates.\n",
       "- I'm trying to remember if there are any other terms related to machine learning that I should be aware of. Maybe terms like 'artificial intelligence' (AI) and 'autonomous systems.' But I think AI is a broader term that includes ML as one of its components or levels.\n",
       "- So, putting it all together, machine learning seems to be a method where computers learn from data to make predictions or decisions without being explicitly programmed. It uses various algorithms like neural networks, decision trees, and others. It's applied in many areas, including autonomous systems, personalization, and automation across industries.\n",
       "- I wonder how the field is evolving right now. With more powerful computing hardware and better datasets, machine learning techniques are getting more sophisticated. This might mean that models become more accurate or capable of handling more complex tasks. However, it also means there could be challenges in maintaining performance if data becomes scarce or if the underlying patterns change.\n",
       "- In summary, machine learning isn't just about predicting the future; it's about using data to improve systems and make decisions automatically. It's a dynamic field that's shaping many aspects of modern technology.\n",
       "</think>\n",
       "- Machine Learning is a method that enables computers to learn from data without explicit programming. It involves algorithms that analyze patterns in data to make predictions or decisions, often self-driven. Here are key points about machine learning:\n",
       "- 1. **Data-Driven**: Machine learning uses data to train models, which can then predict outcomes or adapt to new situations.\n",
       "- 2. **Applications**: It is used across various fields, including finance (predicting stock trends), healthcare (diagnosing diseases), and autonomous systems (like self-driving cars).\n",
       "- 3. **Types of Learning**:\n",
       "   - **Supervised Learning**: Uses labeled data for training, where outcomes are known.\n",
       "   - **Unsupervised Learning**: Analyzes unlabeled data to find patterns or groups in the data without prior knowledge.\n",
       "   - **Reinforcement Learning**: Aims to learn through rewards and punishments, applicable in game playing and robotics.\n",
       "- 4. **Types of Models**:\n",
       "   - **Neural Networks**: Complex algorithms inspired by the human brain that can learn hierarchical patterns.\n",
       "   - **Decision Trees**: Uses if-then rules for making decisions based on data attributes.\n",
       "- 5. **Evolution and Challenges**: The field is advancing with better computing power, leading to more sophisticated models. However, challenges like data scarcity and changing environments may require continuous adaptation.\n",
       "- 6. **Relation to AI and Autonomous Systems**: Machine learning is a subset of artificial intelligence, often integrated into autonomous systems for tasks like navigation or decision-making.\n",
       "- In essence, machine learning automates the discovery of patterns through data, making it a versatile tool across industries, enhancing automation and predictive capabilities."
      ],
      "text/plain": [
       "<IPython.core.display.Markdown object>"
      ]
     },
     "metadata": {},
     "output_type": "display_data"
    }
   ],
   "source": [
    "formatted_text = result.replace(\"\\n\\n\", \"\\n- \")\n",
    "display(Markdown(\"- \" + formatted_text))"
   ]
  },
  {
   "cell_type": "code",
   "execution_count": null,
   "id": "7ed6b810-9b30-4757-bbf6-7532ef3e11d0",
   "metadata": {},
   "outputs": [],
   "source": []
  },
  {
   "cell_type": "code",
   "execution_count": null,
   "id": "16aaa0e2-97bc-4b41-9464-dfe4eb3bf490",
   "metadata": {},
   "outputs": [],
   "source": []
  }
 ],
 "metadata": {
  "kernelspec": {
   "display_name": "Python 3 (ipykernel)",
   "language": "python",
   "name": "python3"
  },
  "language_info": {
   "codemirror_mode": {
    "name": "ipython",
    "version": 3
   },
   "file_extension": ".py",
   "mimetype": "text/x-python",
   "name": "python",
   "nbconvert_exporter": "python",
   "pygments_lexer": "ipython3",
   "version": "3.12.3"
  }
 },
 "nbformat": 4,
 "nbformat_minor": 5
}
